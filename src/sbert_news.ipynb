{
 "cells": [
  {
   "cell_type": "code",
   "execution_count": 1,
   "metadata": {},
   "outputs": [
    {
     "name": "stderr",
     "output_type": "stream",
     "text": [
      "/Library/Frameworks/Python.framework/Versions/3.12/lib/python3.12/site-packages/tqdm/auto.py:21: TqdmWarning: IProgress not found. Please update jupyter and ipywidgets. See https://ipywidgets.readthedocs.io/en/stable/user_install.html\n",
      "  from .autonotebook import tqdm as notebook_tqdm\n"
     ]
    }
   ],
   "source": [
    "import json\n",
    "import os\n",
    "import pandas as pd\n",
    "from sklearn.cluster import KMeans\n",
    "from sklearn.decomposition import PCA\n",
    "import torch\n",
    "from transformers import RobertaTokenizer, RobertaModel"
   ]
  },
  {
   "cell_type": "markdown",
   "metadata": {},
   "source": [
    "### For Macs"
   ]
  },
  {
   "cell_type": "code",
   "execution_count": 2,
   "metadata": {},
   "outputs": [
    {
     "name": "stdout",
     "output_type": "stream",
     "text": [
      "tensor([1.], device='mps:0')\n"
     ]
    }
   ],
   "source": [
    "if torch.backends.mps.is_available():\n",
    "    mps_device = torch.device(\"mps\")\n",
    "    x = torch.ones(1, device=mps_device)\n",
    "    print (x)\n",
    "else:\n",
    "    print (\"MPS device not found.\")"
   ]
  },
  {
   "cell_type": "markdown",
   "metadata": {},
   "source": [
    "### Defining Functions"
   ]
  },
  {
   "cell_type": "code",
   "execution_count": 3,
   "metadata": {},
   "outputs": [],
   "source": [
    "\n",
    "# Function to generate embeddings\n",
    "def generate_embeddings(texts, tokenizer, model, batch_size=8):\n",
    "    \"\"\"\n",
    "    Generate embeddings for a list of texts using DistilRoBERTa with mean pooling.\n",
    "    \"\"\"\n",
    "    device = torch.device(\"mps\" if torch.backends.mps.is_available() else \"cpu\")\n",
    "    model = model.to(device)\n",
    "\n",
    "    embeddings = []\n",
    "    for i in range(0, len(texts), batch_size):\n",
    "        batch = texts[i:i + batch_size]\n",
    "        inputs = tokenizer(batch, padding=True, truncation=True, return_tensors='pt', max_length=512)\n",
    "        inputs = {key: value.to(device) for key, value in inputs.items()}  # Move inputs to device\n",
    "\n",
    "        with torch.no_grad():\n",
    "            outputs = model(**inputs)\n",
    "            # Use mean pooling for sentence representation\n",
    "            # Exclude padding tokens by creating a mask\n",
    "            attention_mask = inputs['attention_mask']\n",
    "            token_embeddings = outputs.last_hidden_state  # Shape: (batch_size, seq_length, hidden_size)\n",
    "\n",
    "            # Compute mean of embeddings, taking into account the attention mask\n",
    "            masked_embeddings = token_embeddings * attention_mask.unsqueeze(-1)  # Shape: (batch_size, seq_length, hidden_size)\n",
    "            # Sum embeddings and count non-padding tokens\n",
    "            sum_embeddings = masked_embeddings.sum(dim=1)  # Shape: (batch_size, hidden_size)\n",
    "            count_embeddings = attention_mask.sum(dim=1)  # Shape: (batch_size)\n",
    "\n",
    "            # Avoid division by zero and compute mean\n",
    "            mean_embeddings = sum_embeddings / count_embeddings.unsqueeze(-1).clamp(min=1e-9)  # Shape: (batch_size, hidden_size)\n",
    "            embeddings.append(mean_embeddings)\n",
    "\n",
    "    return torch.cat(embeddings, dim=0)\n",
    "\n",
    "def reduce_dimensionality(embeddings, n_components=50):\n",
    "    \"\"\"\n",
    "    Reduce the dimensionality of embeddings using PCA.\n",
    "    \"\"\"\n",
    "    embeddings_np = embeddings.cpu().numpy()  # Move tensor to CPU and convert to NumPy\n",
    "    pca = PCA(n_components=n_components)\n",
    "    reduced_embeddings = pca.fit_transform(embeddings_np)\n",
    "    return reduced_embeddings\n",
    "\n",
    "def perform_clustering(embeddings, n_clusters=5):\n",
    "    \"\"\"\n",
    "    Cluster embeddings using KMeans.\n",
    "    \"\"\"\n",
    "    reduced_embeddings = reduce_dimensionality(embeddings)\n",
    "    kmeans = KMeans(n_clusters=n_clusters, random_state=42)\n",
    "    clusters = kmeans.fit_predict(reduced_embeddings)\n",
    "    return clusters\n"
   ]
  },
  {
   "cell_type": "markdown",
   "metadata": {},
   "source": [
    "### Loading dataset"
   ]
  },
  {
   "cell_type": "code",
   "execution_count": 4,
   "metadata": {},
   "outputs": [],
   "source": [
    "def get_data(path):\n",
    "    df = pd.DataFrame()\n",
    "    news = []\n",
    "    labels = []\n",
    "    for root, dirs, files in os.walk(path):\n",
    "        for file in files:\n",
    "            if file.endswith('.txt'):\n",
    "                # Specify the encoding when opening the file\n",
    "                with open(os.path.join(root, file), 'r', encoding='latin1') as f:\n",
    "                    content = f.read()\n",
    "                    articles = content.strip().split('\\n\\n')\n",
    "                    for article in articles:\n",
    "                        clean_article = article.strip()\n",
    "                        if clean_article:  # Ensure non-empty articles\n",
    "                            news.append(clean_article)\n",
    "                            labels.append(os.path.basename(root))\n",
    "    df = pd.DataFrame({'text': news, 'label': labels})\n",
    "    return df\n",
    "\n",
    "path = '../datasets/news'\n",
    "# Get list of pathnames & labels\n",
    "df = get_data(path)\n"
   ]
  },
  {
   "cell_type": "code",
   "execution_count": 5,
   "metadata": {},
   "outputs": [
    {
     "data": {
      "text/plain": [
       "291086"
      ]
     },
     "execution_count": 5,
     "metadata": {},
     "output_type": "execute_result"
    }
   ],
   "source": [
    "len(df)"
   ]
  },
  {
   "cell_type": "code",
   "execution_count": 6,
   "metadata": {},
   "outputs": [],
   "source": [
    "# Taking only first 1000 for demo \n",
    "df = df.head(1000)"
   ]
  },
  {
   "cell_type": "code",
   "execution_count": 7,
   "metadata": {},
   "outputs": [
    {
     "data": {
      "text/plain": [
       "1000"
      ]
     },
     "execution_count": 7,
     "metadata": {},
     "output_type": "execute_result"
    }
   ],
   "source": [
    "len(df)"
   ]
  },
  {
   "cell_type": "markdown",
   "metadata": {},
   "source": [
    "### Creating Embeddings"
   ]
  },
  {
   "cell_type": "code",
   "execution_count": 8,
   "metadata": {},
   "outputs": [
    {
     "name": "stdout",
     "output_type": "stream",
     "text": [
      "Generating embeddings...\n",
      "Embeddings generated!\n"
     ]
    }
   ],
   "source": [
    "# Initialize distilroberta tokenizer and model\n",
    "tokenizer = RobertaTokenizer.from_pretrained('distilroberta-base')\n",
    "model = RobertaModel.from_pretrained('distilroberta-base')\n",
    "# Generate embeddings\n",
    "print(\"Generating embeddings...\")\n",
    "embeddings = generate_embeddings(df['text'].tolist(), tokenizer, model)\n",
    "print(\"Embeddings generated!\")\n"
   ]
  },
  {
   "cell_type": "markdown",
   "metadata": {},
   "source": [
    "### Clustering "
   ]
  },
  {
   "cell_type": "code",
   "execution_count": 9,
   "metadata": {},
   "outputs": [
    {
     "name": "stdout",
     "output_type": "stream",
     "text": [
      "Reducing dimensionality and clustering...\n",
      "Clustering complete!\n"
     ]
    }
   ],
   "source": [
    "print(\"Reducing dimensionality and clustering...\")\n",
    "clusters = perform_clustering(embeddings)\n",
    "df['cluster'] = clusters\n",
    "print(\"Clustering complete!\")"
   ]
  },
  {
   "cell_type": "code",
   "execution_count": 10,
   "metadata": {},
   "outputs": [
    {
     "name": "stdout",
     "output_type": "stream",
     "text": [
      "Cluster distribution:\n",
      "cluster\n",
      "0    271\n",
      "4    256\n",
      "2    244\n",
      "3    144\n",
      "1     85\n",
      "Name: count, dtype: int64\n",
      "Results saved to clustered_reviews.csv\n"
     ]
    }
   ],
   "source": [
    "\n",
    "# Visualizing or interpreting the clusters\n",
    "print(\"Cluster distribution:\")\n",
    "print(df['cluster'].value_counts())\n",
    "\n",
    "# Save results to a CSV for further analysis\n",
    "df[['text', 'cluster']].to_csv('../outputs/amazon_reviews/clustered_reviews.csv', index=False)\n",
    "print(\"Results saved to clustered_reviews.csv\")"
   ]
  },
  {
   "cell_type": "code",
   "execution_count": null,
   "metadata": {},
   "outputs": [],
   "source": []
  },
  {
   "cell_type": "code",
   "execution_count": null,
   "metadata": {},
   "outputs": [],
   "source": []
  }
 ],
 "metadata": {
  "kernelspec": {
   "display_name": "Python 3",
   "language": "python",
   "name": "python3"
  },
  "language_info": {
   "codemirror_mode": {
    "name": "ipython",
    "version": 3
   },
   "file_extension": ".py",
   "mimetype": "text/x-python",
   "name": "python",
   "nbconvert_exporter": "python",
   "pygments_lexer": "ipython3",
   "version": "3.12.1"
  }
 },
 "nbformat": 4,
 "nbformat_minor": 2
}

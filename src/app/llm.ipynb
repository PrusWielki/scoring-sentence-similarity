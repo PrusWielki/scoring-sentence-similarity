{
 "cells": [
  {
   "cell_type": "code",
   "execution_count": 50,
   "metadata": {},
   "outputs": [],
   "source": [
    "import json\n",
    "import pandas as pd\n",
    "from tqdm import tqdm\n",
    "from langchain_community.llms import Ollama"
   ]
  },
  {
   "cell_type": "markdown",
   "metadata": {},
   "source": [
    "# Dataset"
   ]
  },
  {
   "cell_type": "code",
   "execution_count": 59,
   "metadata": {},
   "outputs": [],
   "source": [
    "def read_json_array(path):\n",
    "  data = []\n",
    "  with open(path, 'r') as file:\n",
    "    for line in file:\n",
    "      json_object = json.loads(line.strip())\n",
    "      data.append(json_object)\n",
    "  return data\n",
    "\n",
    "dataset_path = '../../datasets/amazon_reviews/'\n",
    "data_path = dataset_path + \"Musical_Instruments.json\"\n",
    "\n",
    "data = read_json_array(data_path)\n",
    "df = pd.DataFrame(data)"
   ]
  },
  {
   "cell_type": "code",
   "execution_count": 60,
   "metadata": {},
   "outputs": [],
   "source": [
    "amazon_reviews = pd.DataFrame()\n",
    "amazon_reviews['Reviews'] = df['reviewText'].copy()\n",
    "amazon_reviews['Ratings'] = df['overall'].copy()\n",
    "amazon_reviews = amazon_reviews.head(1000)"
   ]
  },
  {
   "cell_type": "markdown",
   "metadata": {},
   "source": [
    "# Modeling"
   ]
  },
  {
   "cell_type": "code",
   "execution_count": 4,
   "metadata": {},
   "outputs": [
    {
     "name": "stderr",
     "output_type": "stream",
     "text": [
      "/var/folders/87/dhv__9sj0yv1kz0pfv2ds9nh0000gn/T/ipykernel_7045/2721138275.py:1: LangChainDeprecationWarning: The class `Ollama` was deprecated in LangChain 0.3.1 and will be removed in 1.0.0. An updated version of the class exists in the :class:`~langchain-ollama package and should be used instead. To use it run `pip install -U :class:`~langchain-ollama` and import as `from :class:`~langchain_ollama import OllamaLLM``.\n",
      "  llm = Ollama(model=\"gemma2\")\n"
     ]
    }
   ],
   "source": [
    "llm = Ollama(model=\"gemma2\")"
   ]
  },
  {
   "cell_type": "markdown",
   "metadata": {},
   "source": [
    "### Step 1 - Creating Topics for batches of dataset"
   ]
  },
  {
   "cell_type": "code",
   "execution_count": 5,
   "metadata": {},
   "outputs": [],
   "source": [
    "def generate_topics_in_batches(amazon_reviews, batch_size=100, llm=None):\n",
    "    \"\"\"\n",
    "    Generate topics from Amazon reviews in batches to handle large datasets.\n",
    "    \n",
    "    Parameters:\n",
    "    amazon_reviews (pd.DataFrame): DataFrame containing Amazon reviews\n",
    "    batch_size (int): Number of reviews to process in each batch\n",
    "    llm: The language model instance to use for generating topics\n",
    "    \n",
    "    Returns:\n",
    "    list: List of lists containing topics for each batch\n",
    "    \"\"\"\n",
    "    if llm is None:\n",
    "        raise ValueError(\"LLM instance must be provided\")\n",
    "    \n",
    "    all_batch_topics = []\n",
    "    total_reviews = len(amazon_reviews)\n",
    "    \n",
    "    # Process reviews in batches\n",
    "    for start_idx in tqdm(range(0, total_reviews, batch_size)):\n",
    "        end_idx = min(start_idx + batch_size, total_reviews)\n",
    "        batch_reviews = amazon_reviews.iloc[start_idx:end_idx]\n",
    "        \n",
    "        # Generate prompt for current batch\n",
    "        prompt_labels_generator = f'''You are provided with amazon reviews on the musical instruments and helping to cluster the reviews based on the topics.\n",
    "Please create topics based on the reviews provided. Keep the topics general and not specific to the reviews.\n",
    "Amazon Reviews: {batch_reviews['Reviews'].tolist()}\n",
    "Please return only in CSV format with the following structure:\n",
    "Topic1, Topic2, Topic3, Topic4, Topic5,...\n",
    "Return only the topics in CSV format and nothing else.\n",
    "'''\n",
    "        \n",
    "        # Get topics for current batch\n",
    "        result = llm.invoke(prompt_labels_generator, temperature=0.0)\n",
    "        \n",
    "        # Convert CSV string to list of topics\n",
    "        batch_topics = [topic.strip() for topic in result.split(',')]\n",
    "        all_batch_topics.append(batch_topics)\n",
    "        \n",
    "        print(f\"Processed batch {len(all_batch_topics)}: reviews {start_idx} to {end_idx}\")\n",
    "    \n",
    "    return all_batch_topics"
   ]
  },
  {
   "cell_type": "code",
   "execution_count": 6,
   "metadata": {},
   "outputs": [
    {
     "name": "stdout",
     "output_type": "stream",
     "text": [
      "Processed batch 1: reviews 0 to 100\n",
      "Processed batch 2: reviews 100 to 200\n",
      "Processed batch 3: reviews 200 to 300\n",
      "Processed batch 4: reviews 300 to 400\n",
      "Processed batch 5: reviews 400 to 500\n",
      "Processed batch 6: reviews 500 to 600\n",
      "Processed batch 7: reviews 600 to 700\n",
      "Processed batch 8: reviews 700 to 800\n",
      "Processed batch 9: reviews 800 to 900\n",
      "Processed batch 10: reviews 900 to 1000\n"
     ]
    }
   ],
   "source": [
    "topics_by_batch = generate_topics_in_batches(amazon_reviews, batch_size=100, llm=llm)"
   ]
  },
  {
   "cell_type": "code",
   "execution_count": 10,
   "metadata": {},
   "outputs": [],
   "source": [
    "all_unique_topics = list(set([topic for batch in topics_by_batch for topic in batch]))"
   ]
  },
  {
   "cell_type": "markdown",
   "metadata": {},
   "source": [
    "### Step 2 - Combining all topics to a smaller more general subset"
   ]
  },
  {
   "cell_type": "code",
   "execution_count": 12,
   "metadata": {},
   "outputs": [],
   "source": [
    "prompt_merge_topics = f'''You are provided with topics generated from Amazon reviews on musical instruments.\n",
    "Please merge the topics into a smaller number of topics. The topics should be general and not specific to the reviews.\n",
    "Topics: {all_unique_topics}\n",
    "Please return only in CSV format with the following structure:\n",
    "MergedTopic1, MergedTopic2, MergedTopic3, MergedTopic4, MergedTopic5,...\n",
    "Return only the merged topics in CSV format and nothing else.\n",
    "'''\n",
    "\n",
    "# Get merged topics\n",
    "proper_topics_str = llm.invoke(prompt_merge_topics, temperature=0.0)"
   ]
  },
  {
   "cell_type": "code",
   "execution_count": 15,
   "metadata": {},
   "outputs": [
    {
     "name": "stdout",
     "output_type": "stream",
     "text": [
      "['Sound Quality', 'Ease of Use', 'Value for Money', 'Learning Resources', 'Aesthetics', 'Durability', 'Overall Satisfaction']\n"
     ]
    }
   ],
   "source": [
    "proper_topics = [topic.strip() for topic in proper_topics_str.split(',')]\n",
    "print(proper_topics)"
   ]
  },
  {
   "cell_type": "code",
   "execution_count": 25,
   "metadata": {},
   "outputs": [
    {
     "name": "stdout",
     "output_type": "stream",
     "text": [
      "['Sound Quality', 'Ease of Use', 'Value for Money', 'Learning Resources', 'Aesthetics', 'Durability', 'Overall Satisfaction']\n"
     ]
    }
   ],
   "source": [
    "print(proper_topics)\n"
   ]
  },
  {
   "cell_type": "markdown",
   "metadata": {},
   "source": [
    "### Step 3 - Assigning batches of dataset to Topics Generated in Step 2 and sentiment of the review"
   ]
  },
  {
   "cell_type": "code",
   "execution_count": 112,
   "metadata": {},
   "outputs": [],
   "source": [
    "def assign_topics_in_batches(input_df, topics, batch_size, llm=None):\n",
    "    \"\"\"\n",
    "    Assign topics and sentiment to Amazon reviews in batches and update DataFrame directly.\n",
    "\n",
    "    Parameters:\n",
    "    input_df (pd.DataFrame): DataFrame containing Amazon reviews\n",
    "    topics (str): String of topics to assign from\n",
    "    batch_size (int): Number of reviews to process in each batch\n",
    "    llm: The language model instance to use for assigning topics\n",
    "\n",
    "    Returns:\n",
    "    pd.DataFrame: Updated DataFrame with topic and sentiment assignments\n",
    "    \"\"\"\n",
    "    if llm is None:\n",
    "        raise ValueError(\"LLM instance must be provided\")\n",
    "\n",
    "    # Create a copy of the DataFrame to avoid modifying the original\n",
    "    df = input_df.copy()\n",
    "\n",
    "    # Initialize Topic and Sentiment columns with 'Unknown'\n",
    "    df['Topic'] = 'Unknown'\n",
    "    df['Sentiment'] = 'Unknown'\n",
    "\n",
    "    total_reviews = len(df)\n",
    "\n",
    "    # Process reviews in batches with progress bar\n",
    "    for start_idx in tqdm(range(0, total_reviews, batch_size), desc=\"Assigning topics\"):\n",
    "        end_idx = min(start_idx + batch_size, total_reviews)\n",
    "        batch_reviews_list = df.iloc[start_idx:end_idx]\n",
    "        batch_reviews = \" \".join([f\"Comment {i + 1}: {review},\" for i, review in enumerate(batch_reviews_list['Reviews'])])\n",
    "        \n",
    "        # Generate prompt for current batch\n",
    "        prompt_assigning_prompt = f'''You are provided with amazon reviews on the musical instruments and helping to cluster the reviews based on the topics.\n",
    "Please assign the reviews to the topics provided. Return only the name of the topic and sentiment for the respective reviews. Sentiment can be only Positive, Negative or Neutral.\n",
    "Amazon Reviews: {batch_reviews}\n",
    "Topics: {topics}\n",
    "Please return in JSON format only topics and sentiment for respective reviews and nothing else. Do not use triple backtick blocks. Only output exactly as on the example below:\n",
    "Example: Having an input of Review1, Review2, Review3, Review4\n",
    "Output: [{{\"topic\": \"Topic1\", \"sentiment\": \"Sentiment1\"}}, {{\"topic\": \"Topic2\", \"sentiment\": \"Sentiment2\"}}, {{\"topic\": \"Topic3\", \"sentiment\": \"Sentiment3\"}}]\n",
    "'''\n",
    "\n",
    "        # Get assignments for current batch\n",
    "        result = llm.invoke(prompt_assigning_prompt, temperature=0.0)\n",
    "\n",
    "        try:\n",
    "            # Parse JSON response\n",
    "            assignments = json.loads(result)\n",
    "\n",
    "            # Update DataFrame directly using indices\n",
    "            for idx, assignment in enumerate(assignments):\n",
    "                current_idx = start_idx + idx\n",
    "                if current_idx < total_reviews:\n",
    "                    topic = assignment.get('topic', 'Unknown')\n",
    "                    sentiment = assignment.get('sentiment', 'Unknown')\n",
    "\n",
    "                    df.at[current_idx, 'Topic'] = topic\n",
    "                    df.at[current_idx, 'Sentiment'] = sentiment\n",
    "\n",
    "        except json.JSONDecodeError as e:\n",
    "            print(f\"\\nError parsing JSON for batch starting at index {start_idx}: {str(e)}\")\n",
    "            print(f\"Raw response: {result}\")\n",
    "            continue\n",
    "        except Exception as e:\n",
    "            print(f\"\\nUnexpected error processing batch starting at index {start_idx}: {str(e)}\")\n",
    "            continue\n",
    "\n",
    "    return df\n"
   ]
  },
  {
   "cell_type": "code",
   "execution_count": 113,
   "metadata": {},
   "outputs": [
    {
     "name": "stderr",
     "output_type": "stream",
     "text": [
      "Assigning topics: 100%|██████████| 3/3 [00:12<00:00,  4.18s/it]\n"
     ]
    }
   ],
   "source": [
    "amazon_reviews_with_topics = assign_topics_in_batches(\n",
    "    amazon_reviews.head(11),\n",
    "    topics=str(proper_topics),\n",
    "    batch_size=5,\n",
    "    llm=llm\n",
    ")"
   ]
  },
  {
   "cell_type": "code",
   "execution_count": 114,
   "metadata": {},
   "outputs": [
    {
     "data": {
      "text/html": [
       "<div>\n",
       "<style scoped>\n",
       "    .dataframe tbody tr th:only-of-type {\n",
       "        vertical-align: middle;\n",
       "    }\n",
       "\n",
       "    .dataframe tbody tr th {\n",
       "        vertical-align: top;\n",
       "    }\n",
       "\n",
       "    .dataframe thead th {\n",
       "        text-align: right;\n",
       "    }\n",
       "</style>\n",
       "<table border=\"1\" class=\"dataframe\">\n",
       "  <thead>\n",
       "    <tr style=\"text-align: right;\">\n",
       "      <th></th>\n",
       "      <th>Reviews</th>\n",
       "      <th>Ratings</th>\n",
       "      <th>Topic</th>\n",
       "      <th>Sentiment</th>\n",
       "    </tr>\n",
       "  </thead>\n",
       "  <tbody>\n",
       "    <tr>\n",
       "      <th>0</th>\n",
       "      <td>Crocheting for Dummies by Karen Manthey &amp; Susa...</td>\n",
       "      <td>5.0</td>\n",
       "      <td>Learning Resources</td>\n",
       "      <td>Positive</td>\n",
       "    </tr>\n",
       "    <tr>\n",
       "      <th>1</th>\n",
       "      <td>Very helpful...</td>\n",
       "      <td>4.0</td>\n",
       "      <td>Ease of Use</td>\n",
       "      <td>Positive</td>\n",
       "    </tr>\n",
       "    <tr>\n",
       "      <th>2</th>\n",
       "      <td>EASY TO UNDERSTAND AND A PROMPT SERVICE TOO</td>\n",
       "      <td>5.0</td>\n",
       "      <td>Overall Satisfaction</td>\n",
       "      <td>Positive</td>\n",
       "    </tr>\n",
       "    <tr>\n",
       "      <th>3</th>\n",
       "      <td>My girlfriend use quite often</td>\n",
       "      <td>4.0</td>\n",
       "      <td>Value for Money</td>\n",
       "      <td>Positive</td>\n",
       "    </tr>\n",
       "    <tr>\n",
       "      <th>4</th>\n",
       "      <td>Arrived as described. Very happy.</td>\n",
       "      <td>5.0</td>\n",
       "      <td>Overall Satisfaction</td>\n",
       "      <td>Positive</td>\n",
       "    </tr>\n",
       "    <tr>\n",
       "      <th>5</th>\n",
       "      <td>Love the Dummies Series.  Never fails.</td>\n",
       "      <td>5.0</td>\n",
       "      <td>Learning Resources</td>\n",
       "      <td>Positive</td>\n",
       "    </tr>\n",
       "    <tr>\n",
       "      <th>6</th>\n",
       "      <td>Good book.</td>\n",
       "      <td>5.0</td>\n",
       "      <td>Learning Resources</td>\n",
       "      <td>Positive</td>\n",
       "    </tr>\n",
       "    <tr>\n",
       "      <th>7</th>\n",
       "      <td>Just started reading it. Love the charts &amp; cau...</td>\n",
       "      <td>4.0</td>\n",
       "      <td>Learning Resources</td>\n",
       "      <td>Positive</td>\n",
       "    </tr>\n",
       "    <tr>\n",
       "      <th>8</th>\n",
       "      <td>GREAT  book</td>\n",
       "      <td>4.0</td>\n",
       "      <td>Learning Resources</td>\n",
       "      <td>Positive</td>\n",
       "    </tr>\n",
       "    <tr>\n",
       "      <th>9</th>\n",
       "      <td>this is a very helpful book.</td>\n",
       "      <td>5.0</td>\n",
       "      <td>Learning Resources</td>\n",
       "      <td>Positive</td>\n",
       "    </tr>\n",
       "    <tr>\n",
       "      <th>10</th>\n",
       "      <td>Excellent training book for beginners!</td>\n",
       "      <td>5.0</td>\n",
       "      <td>Learning Resources</td>\n",
       "      <td>Positive</td>\n",
       "    </tr>\n",
       "  </tbody>\n",
       "</table>\n",
       "</div>"
      ],
      "text/plain": [
       "                                              Reviews  Ratings  \\\n",
       "0   Crocheting for Dummies by Karen Manthey & Susa...      5.0   \n",
       "1                                     Very helpful...      4.0   \n",
       "2         EASY TO UNDERSTAND AND A PROMPT SERVICE TOO      5.0   \n",
       "3                       My girlfriend use quite often      4.0   \n",
       "4                   Arrived as described. Very happy.      5.0   \n",
       "5              Love the Dummies Series.  Never fails.      5.0   \n",
       "6                                          Good book.      5.0   \n",
       "7   Just started reading it. Love the charts & cau...      4.0   \n",
       "8                                         GREAT  book      4.0   \n",
       "9                        this is a very helpful book.      5.0   \n",
       "10             Excellent training book for beginners!      5.0   \n",
       "\n",
       "                   Topic Sentiment  \n",
       "0     Learning Resources  Positive  \n",
       "1            Ease of Use  Positive  \n",
       "2   Overall Satisfaction  Positive  \n",
       "3        Value for Money  Positive  \n",
       "4   Overall Satisfaction  Positive  \n",
       "5     Learning Resources  Positive  \n",
       "6     Learning Resources  Positive  \n",
       "7     Learning Resources  Positive  \n",
       "8     Learning Resources  Positive  \n",
       "9     Learning Resources  Positive  \n",
       "10    Learning Resources  Positive  "
      ]
     },
     "execution_count": 114,
     "metadata": {},
     "output_type": "execute_result"
    }
   ],
   "source": [
    "amazon_reviews_with_topics"
   ]
  },
  {
   "cell_type": "code",
   "execution_count": 31,
   "metadata": {},
   "outputs": [],
   "source": [
    "amazon_reviews_with_topics.to_csv('amazon_reviews_with_topics.csv', index=False)"
   ]
  },
  {
   "cell_type": "code",
   "execution_count": 115,
   "metadata": {},
   "outputs": [
    {
     "data": {
      "text/plain": [
       "Topic\n",
       "Learning Resources      7\n",
       "Overall Satisfaction    2\n",
       "Ease of Use             1\n",
       "Value for Money         1\n",
       "Name: count, dtype: int64"
      ]
     },
     "execution_count": 115,
     "metadata": {},
     "output_type": "execute_result"
    }
   ],
   "source": [
    "amazon_reviews_with_topics['Topic'].value_counts()"
   ]
  },
  {
   "cell_type": "code",
   "execution_count": null,
   "metadata": {},
   "outputs": [],
   "source": []
  }
 ],
 "metadata": {
  "kernelspec": {
   "display_name": "llm_venv",
   "language": "python",
   "name": "python3"
  },
  "language_info": {
   "codemirror_mode": {
    "name": "ipython",
    "version": 3
   },
   "file_extension": ".py",
   "mimetype": "text/x-python",
   "name": "python",
   "nbconvert_exporter": "python",
   "pygments_lexer": "ipython3",
   "version": "3.11.7"
  }
 },
 "nbformat": 4,
 "nbformat_minor": 2
}

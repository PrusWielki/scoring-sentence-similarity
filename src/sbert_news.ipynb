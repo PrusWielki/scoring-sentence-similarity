{
 "cells": [
  {
   "cell_type": "code",
   "execution_count": 9,
   "metadata": {},
   "outputs": [],
   "source": [
    "import json\n",
    "import os\n",
    "import numpy as np\n",
    "import pandas as pd\n",
    "from sklearn.cluster import KMeans\n",
    "from sklearn.decomposition import PCA\n",
    "from sklearn.datasets import fetch_20newsgroups\n",
    "import torch\n",
    "from transformers import RobertaTokenizer, RobertaModel\n",
    "import tools as tl\n",
    "from tqdm import tqdm"
   ]
  },
  {
   "cell_type": "markdown",
   "metadata": {},
   "source": [
    "### For Macs"
   ]
  },
  {
   "cell_type": "code",
   "execution_count": 10,
   "metadata": {},
   "outputs": [
    {
     "name": "stdout",
     "output_type": "stream",
     "text": [
      "tensor([1.], device='mps:0')\n"
     ]
    }
   ],
   "source": [
    "if torch.backends.mps.is_available():\n",
    "    mps_device = torch.device(\"mps\")\n",
    "    x = torch.ones(1, device=mps_device)\n",
    "    print (x)\n",
    "else:\n",
    "    print (\"MPS device not found.\")"
   ]
  },
  {
   "cell_type": "markdown",
   "metadata": {},
   "source": [
    "### Loading dataset"
   ]
  },
  {
   "cell_type": "code",
   "execution_count": 11,
   "metadata": {},
   "outputs": [],
   "source": [
    "# Load the 20 newsgroups dataset\n",
    "newsgroups = fetch_20newsgroups(subset='all', remove=('headers', 'footers', 'quotes'))\n",
    "\n",
    "# Create a DataFrame from the dataset\n",
    "df = pd.DataFrame({'text': newsgroups.data, 'label': newsgroups.target})\n",
    "\n",
    "# Map target labels to target names\n",
    "df['label'] = df['label'].map(lambda x: newsgroups.target_names[x])\n",
    "\n",
    "# df = df[df['label'].isin(['rec.motorcycles', 'rec.sport.baseball'])]\n",
    "df = df.head(2000)\n"
   ]
  },
  {
   "cell_type": "code",
   "execution_count": 12,
   "metadata": {},
   "outputs": [
    {
     "data": {
      "text/plain": [
       "label\n",
       "soc.religion.christian      120\n",
       "comp.windows.x              118\n",
       "rec.motorcycles             114\n",
       "comp.sys.mac.hardware       111\n",
       "sci.electronics             109\n",
       "comp.sys.ibm.pc.hardware    109\n",
       "sci.crypt                   106\n",
       "rec.sport.hockey            104\n",
       "sci.space                   103\n",
       "comp.os.ms-windows.misc     103\n",
       "sci.med                     102\n",
       "comp.graphics               102\n",
       "rec.sport.baseball          101\n",
       "rec.autos                    93\n",
       "alt.atheism                  88\n",
       "talk.politics.guns           88\n",
       "talk.politics.mideast        87\n",
       "misc.forsale                 87\n",
       "talk.religion.misc           78\n",
       "talk.politics.misc           77\n",
       "Name: count, dtype: int64"
      ]
     },
     "execution_count": 12,
     "metadata": {},
     "output_type": "execute_result"
    }
   ],
   "source": [
    "df['label'].value_counts()"
   ]
  },
  {
   "cell_type": "markdown",
   "metadata": {},
   "source": [
    "### Creating Embeddings"
   ]
  },
  {
   "cell_type": "code",
   "execution_count": 13,
   "metadata": {},
   "outputs": [
    {
     "name": "stdout",
     "output_type": "stream",
     "text": [
      "Generating embeddings...\n"
     ]
    },
    {
     "name": "stderr",
     "output_type": "stream",
     "text": [
      "Generating Embeddings: 100%|██████████| 125/125 [01:58<00:00,  1.05batch/s]"
     ]
    },
    {
     "name": "stdout",
     "output_type": "stream",
     "text": [
      "Embeddings generated!\n"
     ]
    },
    {
     "name": "stderr",
     "output_type": "stream",
     "text": [
      "\n"
     ]
    }
   ],
   "source": [
    "# Initialize distilroberta tokenizer and model\n",
    "tokenizer = RobertaTokenizer.from_pretrained('distilroberta-base')\n",
    "model = RobertaModel.from_pretrained('distilroberta-base')\n",
    "# Generate embeddings\n",
    "print(\"Generating embeddings...\")\n",
    "embeddings = tl.generate_embeddings(df['text'].tolist(), tokenizer, model)\n",
    "print(\"Embeddings generated!\")"
   ]
  },
  {
   "cell_type": "markdown",
   "metadata": {},
   "source": [
    "### Clustering "
   ]
  },
  {
   "cell_type": "code",
   "execution_count": 17,
   "metadata": {},
   "outputs": [
    {
     "name": "stdout",
     "output_type": "stream",
     "text": [
      "Reducing dimensionality and clustering...\n",
      "Clustering complete!\n"
     ]
    }
   ],
   "source": [
    "print(\"Reducing dimensionality and clustering...\")\n",
    "clusters = tl.perform_clustering(embeddings, n_clusters=20)\n",
    "df['cluster'] = clusters\n",
    "print(\"Clustering complete!\")"
   ]
  },
  {
   "cell_type": "code",
   "execution_count": 18,
   "metadata": {},
   "outputs": [
    {
     "name": "stdout",
     "output_type": "stream",
     "text": [
      "Cluster distribution:\n",
      "cluster\n",
      "11    190\n",
      "6     148\n",
      "13    133\n",
      "14    131\n",
      "4     128\n",
      "9     128\n",
      "1     127\n",
      "5     120\n",
      "10    113\n",
      "19    112\n",
      "18    108\n",
      "3     107\n",
      "15    101\n",
      "0      81\n",
      "2      75\n",
      "8      53\n",
      "7      47\n",
      "12     39\n",
      "17     31\n",
      "16     28\n",
      "Name: count, dtype: int64\n",
      "Results saved to clustered_reviews.csv\n"
     ]
    }
   ],
   "source": [
    "\n",
    "# Visualizing or interpreting the clusters\n",
    "print(\"Cluster distribution:\")\n",
    "print(df['cluster'].value_counts())\n",
    "\n",
    "# Save results to a CSV for further analysis\n",
    "df[['text', 'cluster']].to_csv('../outputs/amazon_reviews/clustered_reviews.csv', index=False)\n",
    "print(\"Results saved to clustered_reviews.csv\")"
   ]
  },
  {
   "cell_type": "code",
   "execution_count": 19,
   "metadata": {},
   "outputs": [
    {
     "data": {
      "text/plain": [
       "label\n",
       "soc.religion.christian      120\n",
       "comp.windows.x              118\n",
       "rec.motorcycles             114\n",
       "comp.sys.mac.hardware       111\n",
       "sci.electronics             109\n",
       "comp.sys.ibm.pc.hardware    109\n",
       "sci.crypt                   106\n",
       "rec.sport.hockey            104\n",
       "sci.space                   103\n",
       "comp.os.ms-windows.misc     103\n",
       "sci.med                     102\n",
       "comp.graphics               102\n",
       "rec.sport.baseball          101\n",
       "rec.autos                    93\n",
       "alt.atheism                  88\n",
       "talk.politics.guns           88\n",
       "talk.politics.mideast        87\n",
       "misc.forsale                 87\n",
       "talk.religion.misc           78\n",
       "talk.politics.misc           77\n",
       "Name: count, dtype: int64"
      ]
     },
     "execution_count": 19,
     "metadata": {},
     "output_type": "execute_result"
    }
   ],
   "source": [
    "df['label'].value_counts()"
   ]
  },
  {
   "cell_type": "code",
   "execution_count": 20,
   "metadata": {
    "vscode": {
     "languageId": "ruby"
    }
   },
   "outputs": [
    {
     "name": "stdout",
     "output_type": "stream",
     "text": [
      "Adjusted Rand Index (ARI): 0.03809044659587082\n"
     ]
    }
   ],
   "source": [
    "from sklearn.metrics import adjusted_rand_score\n",
    "\n",
    "# Assuming 'df' contains the true labels in the 'label' column and the predicted clusters in the 'cluster' column\n",
    "true_labels = df['label']\n",
    "predicted_clusters = df['cluster']\n",
    "\n",
    "# Calculate the Adjusted Rand Index (ARI)\n",
    "ari_score = adjusted_rand_score(true_labels, predicted_clusters)\n",
    "print(f\"Adjusted Rand Index (ARI): {ari_score}\")"
   ]
  },
  {
   "cell_type": "code",
   "execution_count": null,
   "metadata": {},
   "outputs": [
    {
     "name": "stderr",
     "output_type": "stream",
     "text": [
      "100%|██████████| 19/19 [00:06<00:00,  2.74it/s]"
     ]
    },
    {
     "name": "stdout",
     "output_type": "stream",
     "text": [
      "Best K: 7, Best Silhouette Score: 0.1515936702489853\n"
     ]
    },
    {
     "name": "stderr",
     "output_type": "stream",
     "text": [
      "\n"
     ]
    }
   ],
   "source": [
    "from sklearn.metrics import silhouette_score\n",
    "\n",
    "X = embeddings.cpu().numpy()  # Convert embeddings to numpy array if they are not already\n",
    "cluster_results_km = pd.DataFrame({'K': range(6, 25), 'SIL': np.nan})\n",
    "cluster_results_km.set_index('K', inplace=True)\n",
    "\n",
    "for k in tqdm(cluster_results_km.index):\n",
    "    km_model = KMeans(n_clusters=k, init='k-means++', random_state=42)\n",
    "    y = km_model.fit_predict(X)\n",
    "    cluster_results_km.loc[k, 'SIL'] = silhouette_score(X, y)\n",
    "\n",
    "best_k = cluster_results_km['SIL'].idxmax()\n",
    "best_silhouette_score = cluster_results_km['SIL'].max()\n",
    "\n",
    "print(f\"Best K: {best_k}, Best Silhouette Score: {best_silhouette_score}\")"
   ]
  },
  {
   "cell_type": "code",
   "execution_count": null,
   "metadata": {},
   "outputs": [],
   "source": []
  }
 ],
 "metadata": {
  "kernelspec": {
   "display_name": "Python 3",
   "language": "python",
   "name": "python3"
  },
  "language_info": {
   "codemirror_mode": {
    "name": "ipython",
    "version": 3
   },
   "file_extension": ".py",
   "mimetype": "text/x-python",
   "name": "python",
   "nbconvert_exporter": "python",
   "pygments_lexer": "ipython3",
   "version": "3.12.1"
  }
 },
 "nbformat": 4,
 "nbformat_minor": 2
}
